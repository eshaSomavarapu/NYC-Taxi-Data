{
 "cells": [
  {
   "cell_type": "markdown",
   "metadata": {},
   "source": [
    "# Objectives:"
   ]
  },
  {
   "cell_type": "markdown",
   "metadata": {},
   "source": [
    "1. Build a derived variable for tip as a percentage of the total fare.\n",
    "\n",
    "2. Build a predictive model for tip as a percentage of the total fare. Use as much of the data as you like (or all of it). We will validate a sample."
   ]
  },
  {
   "cell_type": "code",
   "execution_count": 1,
   "metadata": {
    "collapsed": true
   },
   "outputs": [],
   "source": [
    "import pandas as pd\n",
    "import seaborn as sns\n",
    "import numpy as np\n",
    "import matplotlib.pyplot as plt\n",
    "%matplotlib inline\n",
    "from scipy.stats import ttest_ind, f_oneway, lognorm, levy, skew, chisquare\n",
    "from sklearn import preprocessing\n",
    "from sklearn import preprocessing\n",
    "from scipy.stats import skew\n",
    "import numpy as np\n",
    "from scipy.stats import boxcox"
   ]
  },
  {
   "cell_type": "code",
   "execution_count": 2,
   "metadata": {
    "collapsed": true
   },
   "outputs": [],
   "source": [
    "url = 'https://s3.amazonaws.com/nyc-tlc/trip+data/green_tripdata_2015-09.csv'\n",
    "df = pd.read_csv(url)"
   ]
  },
  {
   "cell_type": "code",
   "execution_count": 3,
   "metadata": {},
   "outputs": [
    {
     "data": {
      "text/plain": [
       "Index(['VendorID', 'lpep_pickup_datetime', 'Lpep_dropoff_datetime',\n",
       "       'Store_and_fwd_flag', 'RateCodeID', 'Pickup_longitude',\n",
       "       'Pickup_latitude', 'Dropoff_longitude', 'Dropoff_latitude',\n",
       "       'Passenger_count', 'Trip_distance', 'Fare_amount', 'Extra', 'MTA_tax',\n",
       "       'Tip_amount', 'Tolls_amount', 'Ehail_fee', 'improvement_surcharge',\n",
       "       'Total_amount', 'Payment_type', 'Trip_type '],\n",
       "      dtype='object')"
      ]
     },
     "execution_count": 3,
     "metadata": {},
     "output_type": "execute_result"
    }
   ],
   "source": [
    "df.shape\n",
    "df.columns"
   ]
  },
  {
   "cell_type": "markdown",
   "metadata": {},
   "source": [
    "### Objective 1"
   ]
  },
  {
   "cell_type": "markdown",
   "metadata": {},
   "source": [
    "#### Lets Calculate tip as percentage of total fare...\n",
    "\n",
    "Useful variables in consideration are...\n",
    "\n",
    "Payment Type - Signifys how customer paid for the tip\n",
    "    * 1 = Credit card \n",
    "    * 2 = Cash \n",
    "    * 3 = No charge \n",
    "    * 4 = Dispute \n",
    "    * 5 = Unknown \n",
    "    * 6 = Voided trip\n",
    "    \n",
    "Tip Amount - Populated via credit card and excludes cash tips\n",
    "Total Amount - Amount charged to customers not including cash tips\n",
    "\n",
    "Focusing on Credit Card Tip would be worthwile since others are not reported"
   ]
  },
  {
   "cell_type": "code",
   "execution_count": 4,
   "metadata": {},
   "outputs": [
    {
     "data": {
      "text/plain": [
       "count    1.490754e+06\n",
       "mean     6.653826e+00\n",
       "std      8.875158e+00\n",
       "min      0.000000e+00\n",
       "25%      0.000000e+00\n",
       "50%      0.000000e+00\n",
       "75%      1.666667e+01\n",
       "max      1.000000e+02\n",
       "Name: Tip_Percentage, dtype: float64"
      ]
     },
     "execution_count": 4,
     "metadata": {},
     "output_type": "execute_result"
    }
   ],
   "source": [
    "# Tip as percetage of total fare\n",
    "#Useful variables in computing tip percentage: Payment Type,Total Amount, Trip Amount\n",
    "df['Tip_Percentage']= 100*(df.Tip_amount/df.Total_amount)\n",
    "df.Tip_Percentage.describe()"
   ]
  },
  {
   "cell_type": "code",
   "execution_count": 5,
   "metadata": {},
   "outputs": [
    {
     "data": {
      "text/plain": [
       "Payment_type\n",
       "1    602729\n",
       "2         2\n",
       "3         0\n",
       "4         1\n",
       "5         0\n",
       "Name: tip, dtype: int64"
      ]
     },
     "execution_count": 5,
     "metadata": {},
     "output_type": "execute_result"
    }
   ],
   "source": [
    "#Payment Type & Tip Amount - To determine if passengers that gave a tip\n",
    "df.loc[:,'tip'] = df.Tip_amount.map(lambda x: 1 if x > 0 else 0)\n",
    "df.groupby('Payment_type').tip.sum()"
   ]
  },
  {
   "cell_type": "code",
   "execution_count": 6,
   "metadata": {},
   "outputs": [
    {
     "data": {
      "text/plain": [
       "2    783699\n",
       "1    701287\n",
       "3      5498\n",
       "4      4368\n",
       "5        74\n",
       "Name: Payment_type, dtype: int64"
      ]
     },
     "execution_count": 6,
     "metadata": {},
     "output_type": "execute_result"
    }
   ],
   "source": [
    "# As seen below, when payment type = 1\n",
    "# Majority of the passengers paid the tip using a credit card as reported\n",
    "# Also a majority of the passengers also paid using cash\n",
    "# Few used other payment types\n",
    "df.Payment_type.value_counts()"
   ]
  },
  {
   "cell_type": "markdown",
   "metadata": {},
   "source": [
    "### Objective 2"
   ]
  },
  {
   "cell_type": "markdown",
   "metadata": {},
   "source": [
    "As mentioned above, Tip Amount is only determined through credit card transcations and no cash tips are included. Therefore, It might be a wise decision to use only credit card payments made towards tips in building a predictive model"
   ]
  },
  {
   "cell_type": "code",
   "execution_count": 7,
   "metadata": {
    "collapsed": true
   },
   "outputs": [],
   "source": [
    "# Filter Payment_Type = Credit Card Payment\n",
    "pt = df[df.Payment_type ==1]"
   ]
  },
  {
   "cell_type": "code",
   "execution_count": 8,
   "metadata": {},
   "outputs": [
    {
     "data": {
      "text/html": [
       "<div>\n",
       "<style scoped>\n",
       "    .dataframe tbody tr th:only-of-type {\n",
       "        vertical-align: middle;\n",
       "    }\n",
       "\n",
       "    .dataframe tbody tr th {\n",
       "        vertical-align: top;\n",
       "    }\n",
       "\n",
       "    .dataframe thead th {\n",
       "        text-align: right;\n",
       "    }\n",
       "</style>\n",
       "<table border=\"1\" class=\"dataframe\">\n",
       "  <thead>\n",
       "    <tr style=\"text-align: right;\">\n",
       "      <th></th>\n",
       "      <th>VendorID</th>\n",
       "      <th>lpep_pickup_datetime</th>\n",
       "      <th>Lpep_dropoff_datetime</th>\n",
       "      <th>Store_and_fwd_flag</th>\n",
       "      <th>RateCodeID</th>\n",
       "      <th>Pickup_longitude</th>\n",
       "      <th>Pickup_latitude</th>\n",
       "      <th>Dropoff_longitude</th>\n",
       "      <th>Dropoff_latitude</th>\n",
       "      <th>Passenger_count</th>\n",
       "      <th>...</th>\n",
       "      <th>MTA_tax</th>\n",
       "      <th>Tip_amount</th>\n",
       "      <th>Tolls_amount</th>\n",
       "      <th>Ehail_fee</th>\n",
       "      <th>improvement_surcharge</th>\n",
       "      <th>Total_amount</th>\n",
       "      <th>Payment_type</th>\n",
       "      <th>Trip_type</th>\n",
       "      <th>Tip_Percentage</th>\n",
       "      <th>tip</th>\n",
       "    </tr>\n",
       "  </thead>\n",
       "  <tbody>\n",
       "    <tr>\n",
       "      <th>0</th>\n",
       "      <td>2</td>\n",
       "      <td>2015-09-01 00:02:34</td>\n",
       "      <td>2015-09-01 00:02:38</td>\n",
       "      <td>N</td>\n",
       "      <td>5</td>\n",
       "      <td>-73.979485</td>\n",
       "      <td>40.684956</td>\n",
       "      <td>-73.979431</td>\n",
       "      <td>40.685020</td>\n",
       "      <td>1</td>\n",
       "      <td>...</td>\n",
       "      <td>0.0</td>\n",
       "      <td>1.95</td>\n",
       "      <td>0.0</td>\n",
       "      <td>NaN</td>\n",
       "      <td>0.0</td>\n",
       "      <td>9.75</td>\n",
       "      <td>1</td>\n",
       "      <td>2.0</td>\n",
       "      <td>20.000000</td>\n",
       "      <td>1</td>\n",
       "    </tr>\n",
       "    <tr>\n",
       "      <th>1</th>\n",
       "      <td>2</td>\n",
       "      <td>2015-09-01 00:04:20</td>\n",
       "      <td>2015-09-01 00:04:24</td>\n",
       "      <td>N</td>\n",
       "      <td>5</td>\n",
       "      <td>-74.010796</td>\n",
       "      <td>40.912216</td>\n",
       "      <td>-74.010780</td>\n",
       "      <td>40.912212</td>\n",
       "      <td>1</td>\n",
       "      <td>...</td>\n",
       "      <td>0.0</td>\n",
       "      <td>0.00</td>\n",
       "      <td>0.0</td>\n",
       "      <td>NaN</td>\n",
       "      <td>0.0</td>\n",
       "      <td>45.00</td>\n",
       "      <td>1</td>\n",
       "      <td>2.0</td>\n",
       "      <td>0.000000</td>\n",
       "      <td>0</td>\n",
       "    </tr>\n",
       "    <tr>\n",
       "      <th>2</th>\n",
       "      <td>2</td>\n",
       "      <td>2015-09-01 00:01:50</td>\n",
       "      <td>2015-09-01 00:04:24</td>\n",
       "      <td>N</td>\n",
       "      <td>1</td>\n",
       "      <td>-73.921410</td>\n",
       "      <td>40.766708</td>\n",
       "      <td>-73.914413</td>\n",
       "      <td>40.764687</td>\n",
       "      <td>1</td>\n",
       "      <td>...</td>\n",
       "      <td>0.5</td>\n",
       "      <td>0.50</td>\n",
       "      <td>0.0</td>\n",
       "      <td>NaN</td>\n",
       "      <td>0.3</td>\n",
       "      <td>5.80</td>\n",
       "      <td>1</td>\n",
       "      <td>1.0</td>\n",
       "      <td>8.620690</td>\n",
       "      <td>1</td>\n",
       "    </tr>\n",
       "    <tr>\n",
       "      <th>5</th>\n",
       "      <td>2</td>\n",
       "      <td>2015-09-01 00:00:39</td>\n",
       "      <td>2015-09-01 00:05:20</td>\n",
       "      <td>N</td>\n",
       "      <td>1</td>\n",
       "      <td>-73.945297</td>\n",
       "      <td>40.808186</td>\n",
       "      <td>-73.937668</td>\n",
       "      <td>40.821198</td>\n",
       "      <td>1</td>\n",
       "      <td>...</td>\n",
       "      <td>0.5</td>\n",
       "      <td>1.36</td>\n",
       "      <td>0.0</td>\n",
       "      <td>NaN</td>\n",
       "      <td>0.3</td>\n",
       "      <td>8.16</td>\n",
       "      <td>1</td>\n",
       "      <td>1.0</td>\n",
       "      <td>16.666667</td>\n",
       "      <td>1</td>\n",
       "    </tr>\n",
       "    <tr>\n",
       "      <th>6</th>\n",
       "      <td>2</td>\n",
       "      <td>2015-09-01 00:00:52</td>\n",
       "      <td>2015-09-01 00:05:50</td>\n",
       "      <td>N</td>\n",
       "      <td>1</td>\n",
       "      <td>-73.890877</td>\n",
       "      <td>40.746426</td>\n",
       "      <td>-73.876923</td>\n",
       "      <td>40.756306</td>\n",
       "      <td>1</td>\n",
       "      <td>...</td>\n",
       "      <td>0.5</td>\n",
       "      <td>0.00</td>\n",
       "      <td>0.0</td>\n",
       "      <td>NaN</td>\n",
       "      <td>0.3</td>\n",
       "      <td>7.80</td>\n",
       "      <td>1</td>\n",
       "      <td>1.0</td>\n",
       "      <td>0.000000</td>\n",
       "      <td>0</td>\n",
       "    </tr>\n",
       "    <tr>\n",
       "      <th>8</th>\n",
       "      <td>2</td>\n",
       "      <td>2015-09-01 00:02:36</td>\n",
       "      <td>2015-09-01 00:07:20</td>\n",
       "      <td>N</td>\n",
       "      <td>1</td>\n",
       "      <td>-73.963150</td>\n",
       "      <td>40.693829</td>\n",
       "      <td>-73.956787</td>\n",
       "      <td>40.680531</td>\n",
       "      <td>1</td>\n",
       "      <td>...</td>\n",
       "      <td>0.5</td>\n",
       "      <td>1.46</td>\n",
       "      <td>0.0</td>\n",
       "      <td>NaN</td>\n",
       "      <td>0.3</td>\n",
       "      <td>8.76</td>\n",
       "      <td>1</td>\n",
       "      <td>1.0</td>\n",
       "      <td>16.666667</td>\n",
       "      <td>1</td>\n",
       "    </tr>\n",
       "    <tr>\n",
       "      <th>11</th>\n",
       "      <td>2</td>\n",
       "      <td>2015-09-01 00:04:00</td>\n",
       "      <td>2015-09-01 00:06:06</td>\n",
       "      <td>N</td>\n",
       "      <td>1</td>\n",
       "      <td>-73.905540</td>\n",
       "      <td>40.772526</td>\n",
       "      <td>-73.895363</td>\n",
       "      <td>40.768963</td>\n",
       "      <td>1</td>\n",
       "      <td>...</td>\n",
       "      <td>0.5</td>\n",
       "      <td>1.06</td>\n",
       "      <td>0.0</td>\n",
       "      <td>NaN</td>\n",
       "      <td>0.3</td>\n",
       "      <td>6.36</td>\n",
       "      <td>1</td>\n",
       "      <td>1.0</td>\n",
       "      <td>16.666667</td>\n",
       "      <td>1</td>\n",
       "    </tr>\n",
       "    <tr>\n",
       "      <th>17</th>\n",
       "      <td>2</td>\n",
       "      <td>2015-09-01 00:04:02</td>\n",
       "      <td>2015-09-01 00:07:20</td>\n",
       "      <td>N</td>\n",
       "      <td>1</td>\n",
       "      <td>-73.950989</td>\n",
       "      <td>40.680496</td>\n",
       "      <td>-73.953957</td>\n",
       "      <td>40.690422</td>\n",
       "      <td>1</td>\n",
       "      <td>...</td>\n",
       "      <td>0.5</td>\n",
       "      <td>1.26</td>\n",
       "      <td>0.0</td>\n",
       "      <td>NaN</td>\n",
       "      <td>0.3</td>\n",
       "      <td>7.56</td>\n",
       "      <td>1</td>\n",
       "      <td>1.0</td>\n",
       "      <td>16.666667</td>\n",
       "      <td>1</td>\n",
       "    </tr>\n",
       "    <tr>\n",
       "      <th>21</th>\n",
       "      <td>2</td>\n",
       "      <td>2015-09-01 00:04:22</td>\n",
       "      <td>2015-09-01 00:08:17</td>\n",
       "      <td>N</td>\n",
       "      <td>1</td>\n",
       "      <td>-73.912056</td>\n",
       "      <td>40.775402</td>\n",
       "      <td>-73.893646</td>\n",
       "      <td>40.768505</td>\n",
       "      <td>1</td>\n",
       "      <td>...</td>\n",
       "      <td>0.5</td>\n",
       "      <td>1.46</td>\n",
       "      <td>0.0</td>\n",
       "      <td>NaN</td>\n",
       "      <td>0.3</td>\n",
       "      <td>8.76</td>\n",
       "      <td>1</td>\n",
       "      <td>1.0</td>\n",
       "      <td>16.666667</td>\n",
       "      <td>1</td>\n",
       "    </tr>\n",
       "    <tr>\n",
       "      <th>22</th>\n",
       "      <td>2</td>\n",
       "      <td>2015-09-01 00:04:08</td>\n",
       "      <td>2015-09-01 00:10:00</td>\n",
       "      <td>N</td>\n",
       "      <td>1</td>\n",
       "      <td>-73.961746</td>\n",
       "      <td>40.713779</td>\n",
       "      <td>-73.985931</td>\n",
       "      <td>40.718048</td>\n",
       "      <td>6</td>\n",
       "      <td>...</td>\n",
       "      <td>0.5</td>\n",
       "      <td>1.86</td>\n",
       "      <td>0.0</td>\n",
       "      <td>NaN</td>\n",
       "      <td>0.3</td>\n",
       "      <td>11.16</td>\n",
       "      <td>1</td>\n",
       "      <td>1.0</td>\n",
       "      <td>16.666667</td>\n",
       "      <td>1</td>\n",
       "    </tr>\n",
       "  </tbody>\n",
       "</table>\n",
       "<p>10 rows × 23 columns</p>\n",
       "</div>"
      ],
      "text/plain": [
       "    VendorID lpep_pickup_datetime Lpep_dropoff_datetime Store_and_fwd_flag  \\\n",
       "0          2  2015-09-01 00:02:34   2015-09-01 00:02:38                  N   \n",
       "1          2  2015-09-01 00:04:20   2015-09-01 00:04:24                  N   \n",
       "2          2  2015-09-01 00:01:50   2015-09-01 00:04:24                  N   \n",
       "5          2  2015-09-01 00:00:39   2015-09-01 00:05:20                  N   \n",
       "6          2  2015-09-01 00:00:52   2015-09-01 00:05:50                  N   \n",
       "8          2  2015-09-01 00:02:36   2015-09-01 00:07:20                  N   \n",
       "11         2  2015-09-01 00:04:00   2015-09-01 00:06:06                  N   \n",
       "17         2  2015-09-01 00:04:02   2015-09-01 00:07:20                  N   \n",
       "21         2  2015-09-01 00:04:22   2015-09-01 00:08:17                  N   \n",
       "22         2  2015-09-01 00:04:08   2015-09-01 00:10:00                  N   \n",
       "\n",
       "    RateCodeID  Pickup_longitude  Pickup_latitude  Dropoff_longitude  \\\n",
       "0            5        -73.979485        40.684956         -73.979431   \n",
       "1            5        -74.010796        40.912216         -74.010780   \n",
       "2            1        -73.921410        40.766708         -73.914413   \n",
       "5            1        -73.945297        40.808186         -73.937668   \n",
       "6            1        -73.890877        40.746426         -73.876923   \n",
       "8            1        -73.963150        40.693829         -73.956787   \n",
       "11           1        -73.905540        40.772526         -73.895363   \n",
       "17           1        -73.950989        40.680496         -73.953957   \n",
       "21           1        -73.912056        40.775402         -73.893646   \n",
       "22           1        -73.961746        40.713779         -73.985931   \n",
       "\n",
       "    Dropoff_latitude  Passenger_count ...   MTA_tax  Tip_amount  Tolls_amount  \\\n",
       "0          40.685020                1 ...       0.0        1.95           0.0   \n",
       "1          40.912212                1 ...       0.0        0.00           0.0   \n",
       "2          40.764687                1 ...       0.5        0.50           0.0   \n",
       "5          40.821198                1 ...       0.5        1.36           0.0   \n",
       "6          40.756306                1 ...       0.5        0.00           0.0   \n",
       "8          40.680531                1 ...       0.5        1.46           0.0   \n",
       "11         40.768963                1 ...       0.5        1.06           0.0   \n",
       "17         40.690422                1 ...       0.5        1.26           0.0   \n",
       "21         40.768505                1 ...       0.5        1.46           0.0   \n",
       "22         40.718048                6 ...       0.5        1.86           0.0   \n",
       "\n",
       "    Ehail_fee  improvement_surcharge  Total_amount  Payment_type  Trip_type   \\\n",
       "0         NaN                    0.0          9.75             1         2.0   \n",
       "1         NaN                    0.0         45.00             1         2.0   \n",
       "2         NaN                    0.3          5.80             1         1.0   \n",
       "5         NaN                    0.3          8.16             1         1.0   \n",
       "6         NaN                    0.3          7.80             1         1.0   \n",
       "8         NaN                    0.3          8.76             1         1.0   \n",
       "11        NaN                    0.3          6.36             1         1.0   \n",
       "17        NaN                    0.3          7.56             1         1.0   \n",
       "21        NaN                    0.3          8.76             1         1.0   \n",
       "22        NaN                    0.3         11.16             1         1.0   \n",
       "\n",
       "    Tip_Percentage  tip  \n",
       "0        20.000000    1  \n",
       "1         0.000000    0  \n",
       "2         8.620690    1  \n",
       "5        16.666667    1  \n",
       "6         0.000000    0  \n",
       "8        16.666667    1  \n",
       "11       16.666667    1  \n",
       "17       16.666667    1  \n",
       "21       16.666667    1  \n",
       "22       16.666667    1  \n",
       "\n",
       "[10 rows x 23 columns]"
      ]
     },
     "execution_count": 8,
     "metadata": {},
     "output_type": "execute_result"
    }
   ],
   "source": [
    "pt.head(10)"
   ]
  },
  {
   "cell_type": "code",
   "execution_count": 9,
   "metadata": {},
   "outputs": [
    {
     "data": {
      "text/plain": [
       "VendorID                   int64\n",
       "lpep_pickup_datetime      object\n",
       "Lpep_dropoff_datetime     object\n",
       "Store_and_fwd_flag        object\n",
       "RateCodeID                 int64\n",
       "Pickup_longitude         float64\n",
       "Pickup_latitude          float64\n",
       "Dropoff_longitude        float64\n",
       "Dropoff_latitude         float64\n",
       "Passenger_count            int64\n",
       "Trip_distance            float64\n",
       "Fare_amount              float64\n",
       "Extra                    float64\n",
       "MTA_tax                  float64\n",
       "Tip_amount               float64\n",
       "Tolls_amount             float64\n",
       "Ehail_fee                float64\n",
       "improvement_surcharge    float64\n",
       "Total_amount             float64\n",
       "Payment_type               int64\n",
       "Trip_type                float64\n",
       "Tip_Percentage           float64\n",
       "tip                        int64\n",
       "dtype: object"
      ]
     },
     "execution_count": 9,
     "metadata": {},
     "output_type": "execute_result"
    }
   ],
   "source": [
    "pt.dtypes"
   ]
  },
  {
   "cell_type": "code",
   "execution_count": 10,
   "metadata": {},
   "outputs": [
    {
     "name": "stderr",
     "output_type": "stream",
     "text": [
      "/Users/EshaSomavarapu/anaconda/lib/python3.6/site-packages/pandas/core/indexing.py:537: SettingWithCopyWarning: \n",
      "A value is trying to be set on a copy of a slice from a DataFrame.\n",
      "Try using .loc[row_indexer,col_indexer] = value instead\n",
      "\n",
      "See the caveats in the documentation: http://pandas.pydata.org/pandas-docs/stable/indexing.html#indexing-view-versus-copy\n",
      "  self.obj[item] = s\n",
      "/Users/EshaSomavarapu/anaconda/lib/python3.6/site-packages/pandas/core/indexing.py:357: SettingWithCopyWarning: \n",
      "A value is trying to be set on a copy of a slice from a DataFrame.\n",
      "Try using .loc[row_indexer,col_indexer] = value instead\n",
      "\n",
      "See the caveats in the documentation: http://pandas.pydata.org/pandas-docs/stable/indexing.html#indexing-view-versus-copy\n",
      "  self.obj[key] = _infer_fill_value(value)\n"
     ]
    }
   ],
   "source": [
    "# Determine Categorical Variables and Dummy Code accordingly\n",
    "#df2.select_dtypes(include=['object'])\n",
    "pt.loc[:,'lpep_pickup_datetime'] = pd.to_datetime(pt['lpep_pickup_datetime'])\n",
    "pt.loc[:,'daymins'] = pt.lpep_pickup_datetime.map(lambda x: x.hour*60+x.minute)\n",
    "pt.loc[:,'Store_and_fwd_flag'] = pt.Store_and_fwd_flag.map({'N':0,'Y':1})\n",
    "pt.loc[:,'Trip_type '] = pt['Trip_type '].map({1:0,2:1})\n",
    "pt.loc[:,'VendorID'] = pt.VendorID.map({1:0,2:1})\n",
    "df_ratecodeid = pd.get_dummies(df['RateCodeID'])\n",
    "pt = pd.concat([pt, df_ratecodeid], axis=1)"
   ]
  },
  {
   "cell_type": "code",
   "execution_count": 67,
   "metadata": {},
   "outputs": [
    {
     "data": {
      "text/plain": [
       "VendorID                        float64\n",
       "lpep_pickup_datetime     datetime64[ns]\n",
       "Lpep_dropoff_datetime            object\n",
       "Store_and_fwd_flag              float64\n",
       "RateCodeID                      float64\n",
       "Pickup_longitude                float64\n",
       "Pickup_latitude                 float64\n",
       "Dropoff_longitude               float64\n",
       "Dropoff_latitude                float64\n",
       "Passenger_count                 float64\n",
       "Trip_distance                   float64\n",
       "Fare_amount                     float64\n",
       "Extra                           float64\n",
       "MTA_tax                         float64\n",
       "Tip_amount                      float64\n",
       "Tolls_amount                    float64\n",
       "Ehail_fee                       float64\n",
       "improvement_surcharge           float64\n",
       "Total_amount                    float64\n",
       "Payment_type                    float64\n",
       "Trip_type                       float64\n",
       "Tip_Percentage                  float64\n",
       "tip                             float64\n",
       "daymins                         float64\n",
       "1                                 uint8\n",
       "2                                 uint8\n",
       "3                                 uint8\n",
       "4                                 uint8\n",
       "5                                 uint8\n",
       "6                                 uint8\n",
       "99                                uint8\n",
       "dtype: object"
      ]
     },
     "execution_count": 67,
     "metadata": {},
     "output_type": "execute_result"
    }
   ],
   "source": [
    "pt.dtypes"
   ]
  },
  {
   "cell_type": "code",
   "execution_count": 70,
   "metadata": {},
   "outputs": [
    {
     "data": {
      "text/plain": [
       "VendorID                  793639\n",
       "lpep_pickup_datetime      793639\n",
       "Lpep_dropoff_datetime     793639\n",
       "Store_and_fwd_flag        793639\n",
       "RateCodeID                793639\n",
       "Pickup_longitude          793639\n",
       "Pickup_latitude           793639\n",
       "Dropoff_longitude         793639\n",
       "Dropoff_latitude          793639\n",
       "Passenger_count           793639\n",
       "Trip_distance             793639\n",
       "Fare_amount               793639\n",
       "Extra                     793639\n",
       "MTA_tax                   793639\n",
       "Tip_amount                793639\n",
       "Tolls_amount              793639\n",
       "Ehail_fee                1494926\n",
       "improvement_surcharge     793639\n",
       "Total_amount              793639\n",
       "Payment_type              793639\n",
       "Trip_type                 793642\n",
       "Tip_Percentage            793959\n",
       "tip                       793639\n",
       "daymins                   793639\n",
       "1                              0\n",
       "2                              0\n",
       "3                              0\n",
       "4                              0\n",
       "5                              0\n",
       "6                              0\n",
       "99                             0\n",
       "dtype: int64"
      ]
     },
     "execution_count": 70,
     "metadata": {},
     "output_type": "execute_result"
    }
   ],
   "source": [
    "pt.isnull().sum()"
   ]
  },
  {
   "cell_type": "code",
   "execution_count": 71,
   "metadata": {
    "collapsed": true
   },
   "outputs": [],
   "source": [
    "# Due to time constraints of finishing this challenge and encoutering errors and not having enough time debug \n",
    "# those errors while building a model in predicting Tip Percentage, I have used SAS to make my predictions\n",
    "# It is in a file called Question 4 _Objective 2. I will include the code I used to run in SAS as well as my sas file."
   ]
  }
 ],
 "metadata": {
  "kernelspec": {
   "display_name": "Python 3",
   "language": "python",
   "name": "python3"
  },
  "language_info": {
   "codemirror_mode": {
    "name": "ipython",
    "version": 3
   },
   "file_extension": ".py",
   "mimetype": "text/x-python",
   "name": "python",
   "nbconvert_exporter": "python",
   "pygments_lexer": "ipython3",
   "version": "3.6.1"
  }
 },
 "nbformat": 4,
 "nbformat_minor": 2
}
